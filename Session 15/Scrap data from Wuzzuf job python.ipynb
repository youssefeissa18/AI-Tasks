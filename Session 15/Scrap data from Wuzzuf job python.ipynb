{
 "cells": [
  {
   "cell_type": "code",
   "execution_count": 1,
   "metadata": {},
   "outputs": [],
   "source": [
    "import requests\n",
    "from bs4 import BeautifulSoup\n",
    "import csv\n",
    "from itertools import zip_longest"
   ]
  },
  {
   "cell_type": "code",
   "execution_count": 2,
   "metadata": {},
   "outputs": [],
   "source": [
    "jobtitlestext = []\n",
    "companynametext = []\n",
    "placeWorktext = []\n",
    "jopskillstext = []"
   ]
  },
  {
   "cell_type": "code",
   "execution_count": 3,
   "metadata": {},
   "outputs": [],
   "source": [
    "pagenum = 0\n",
    "while True:\n",
    "    results = requests.get(f\"https://wuzzuf.net/search/jobs/?a=navbl&q=python&start={pagenum}\")\n",
    "    content = results.content\n",
    "    soup = BeautifulSoup(content, \"lxml\")\n",
    "    pagelimit = int(soup.find(\"strong\").text)\n",
    "    if (pagenum > pagelimit // 16):\n",
    "        break\n",
    "    jobtitles = soup.find_all(\"h2\", {\"class\" : \"css-m604qf\"})\n",
    "    companyname = soup.find_all(\"a\", {\"class\" : \"css-17s97q8\"})\n",
    "    placeWork = soup.find_all(\"span\", {\"class\" : \"css-5wys0k\"})\n",
    "    jopskills = soup.find_all(\"div\", {\"class\": \"css-y4udm8\"})\n",
    "    for i in range(len(jobtitles)):\n",
    "        jobtitlestext.append(jobtitles[i].text.strip())\n",
    "        companynametext.append(companyname[i].text.strip())\n",
    "        placeWorktext.append(placeWork[i].text.strip())\n",
    "        jopskillstext.append(jopskills[i].text.strip())\n",
    "    pagenum += 1\n",
    "\n"
   ]
  },
  {
   "cell_type": "code",
   "execution_count": null,
   "metadata": {},
   "outputs": [],
   "source": [
    "listfile = [jobtitlestext, companynametext, placeWorktext, jopskillstext]\n",
    "extract = zip_longest(*listfile)\n",
    "with open(\"D:\\AI Diploma\\Session Tasks\\Session 15/jobinfo.csv\", \"w\") as jobInfo:\n",
    "    wr = csv.writer(jobInfo)\n",
    "    wr.writerow([\"job titles\", \"company name\", \"Location\", \"Tmie and Skills\"])\n",
    "    wr.writerows(extract)\n",
    "    "
   ]
  }
 ],
 "metadata": {
  "kernelspec": {
   "display_name": "Python 3",
   "language": "python",
   "name": "python3"
  },
  "language_info": {
   "codemirror_mode": {
    "name": "ipython",
    "version": 3
   },
   "file_extension": ".py",
   "mimetype": "text/x-python",
   "name": "python",
   "nbconvert_exporter": "python",
   "pygments_lexer": "ipython3",
   "version": "3.11.4"
  }
 },
 "nbformat": 4,
 "nbformat_minor": 2
}
